{
 "cells": [
  {
   "cell_type": "markdown",
   "metadata": {},
   "source": [
    "1) Pull tweets from twitter over a time period\n",
    "    - Only use 'Verified' accounts\n",
    "    - Only use 'relevant' tweets: If they contain at least one of the stock symbols and names (crpyto and names)\n",
    "2) Label the tweets (Can skip this - do sentiments on tweets)\n",
    "    - Is the tweet beneficial to the stock or not (rating of -2 to +2)\n",
    "    - Assign neutrality if between -0.5, +0.5 and positive/negative otherwise\n",
    "3) Preprocess the tweets\n",
    "    - Tokenize, etc\n",
    "    - Replace all numbers with <num> tag\n",
    "    - Remove some punctuation (-, .)\n",
    "    - Modify Loughrans lexicon of positive and negative words to be suited for a stock market context\n",
    "\n",
    "4) Download stock data\n",
    "    - Closing price, for all the stock symbols and names you need\n",
    "    - Calculate the relative daily return to create a stationary time-series\n",
    "    \n",
    "5) First determine if time series is stationary (KPSS)"
   ]
  },
  {
   "cell_type": "markdown",
   "metadata": {},
   "source": [
    "https://www.aclweb.org/anthology/W18-3102.pdf#page=7&zoom=100,89,512"
   ]
  },
  {
   "cell_type": "code",
   "execution_count": 30,
   "metadata": {},
   "outputs": [],
   "source": [
    "import requests\n",
    "import os\n",
    "import json"
   ]
  },
  {
   "cell_type": "code",
   "execution_count": 80,
   "metadata": {},
   "outputs": [],
   "source": [
    "bearer_token = 'AAAAAAAAAAAAAAAAAAAAAKeALAEAAAAA7pr%2B0Wbti3cRC%2FWaMWouen%2F2cmQ%3DLdwugPjXpcX8TqRrocCtqAAYFwUP8dDqF1jMgm26kk8o2bVvcx'"
   ]
  },
  {
   "cell_type": "code",
   "execution_count": 259,
   "metadata": {},
   "outputs": [],
   "source": [
    "all_verified_tweets = []\n",
    "all_tweets = []"
   ]
  },
  {
   "cell_type": "code",
   "execution_count": 260,
   "metadata": {},
   "outputs": [],
   "source": [
    "def create_url(query):\n",
    "    query = query\n",
    "    tweet_fields = \"tweet.fields=author_id\"\n",
    "    user_fields = \"user.fields=entities\"\n",
    "    url = \"https://api.twitter.com/2/tweets/search/recent?query={}&{}&{}\".format(\n",
    "        query, user_fields, tweet_fields\n",
    "    )\n",
    "    return url"
   ]
  },
  {
   "cell_type": "code",
   "execution_count": 261,
   "metadata": {},
   "outputs": [],
   "source": [
    "def create_url_verified(id):\n",
    "    url = f\"https://api.twitter.com/2/users?ids={id}&user.fields=verified\"\n",
    "    return url"
   ]
  },
  {
   "cell_type": "code",
   "execution_count": 262,
   "metadata": {},
   "outputs": [],
   "source": [
    "def get_tweets(query):\n",
    "    headers = {\"Authorization\": \"Bearer {}\".format(bearer_token)}\n",
    "    url = create_url(query)\n",
    "    r = requests.request(\"GET\", url, headers = headers)\n",
    "    return r\n",
    "\n",
    "def verify_tweets(r):\n",
    "    tweets_verified = []\n",
    "    tweets_normal = []\n",
    "    for tweet in r.json()['data']:\n",
    "        url = create_url_verified(tweet['author_id'])\n",
    "        r = requests.request(\"GET\", url, headers = headers)\n",
    "        verified = r.json()['data'][0]['verified']\n",
    "        if verified:\n",
    "            print(tweet)\n",
    "            tweets_verified.append(tweet)\n",
    "        else:\n",
    "            tweets_normal.append(tweet)\n",
    "    all_tweets.append(tweets_normal)\n",
    "    all_verified_tweets.append(tweets_verified)\n",
    "    return tweets"
   ]
  },
  {
   "cell_type": "code",
   "execution_count": 267,
   "metadata": {},
   "outputs": [
    {
     "data": {
      "text/plain": [
       "<Response [200]>"
      ]
     },
     "execution_count": 267,
     "metadata": {},
     "output_type": "execute_result"
    }
   ],
   "source": [
    "tweets = get_tweets(\"bitcoin\")\n",
    "verified = verify_tweets(tweets)\n",
    "verified"
   ]
  },
  {
   "cell_type": "code",
   "execution_count": 271,
   "metadata": {},
   "outputs": [
    {
     "data": {
      "text/plain": [
       "[[{'author_id': '2260491445',\n",
       "   'id': '1366268214754357248',\n",
       "   'text': 'Almost every decentralized network claims a very high level of decentralized — but is that always the case?\\n\\n#Crypto #Cryptocurrency #Altcoin #Blockchain #Bitcoin \\n\\nhttps://t.co/YWWviFAixV'}],\n",
       " []]"
      ]
     },
     "execution_count": 271,
     "metadata": {},
     "output_type": "execute_result"
    }
   ],
   "source": [
    "all_verified_tweets"
   ]
  },
  {
   "cell_type": "code",
   "execution_count": 272,
   "metadata": {},
   "outputs": [
    {
     "data": {
      "text/plain": [
       "[[{'author_id': '1260968439931420677',\n",
       "   'id': '1366268218139099136',\n",
       "   'text': 'I am sending you 1π! Pi is a new digital currency developed by Stanford PhDs with over 10 million members worldwide. To claim your Pi follow this link and use my username (borgonovorob) as your invitation code. #bitcoin; https://t.co/2ySFWchgnV'},\n",
       "  {'author_id': '1345727073466392579',\n",
       "   'id': '1366268217782591491',\n",
       "   'text': 'The MACD supports a bullish outlook suggesting that bulls still have a chance to take control of the trend.#ForexShakeel #crytpo #bitcoin #btc #news #cardano #ada #xrp #doge #Algorand #polkadot #Dogecoins #RippleNet #Ripple #ETH #Tezos #TezosAnalysis #XLMUP #cryptocurrency #Link https://t.co/o8pFi2y69n'},\n",
       "  {'author_id': '1221366000752324609',\n",
       "   'id': '1366268216092233730',\n",
       "   'text': 'RT @News24: Creditors of the disgraced trading scheme will reconvene in court on Monday to hear whether it should be permanently liquidated…'},\n",
       "  {'author_id': '1188089088085286914',\n",
       "   'id': '1366268212166463490',\n",
       "   'text': 'RT @VikingXBT: So bullish divergence on #Bitcoin from yesterday did play out. Happy we bought the dip? Now take some profit and don’t get r…'},\n",
       "  {'author_id': '279473624',\n",
       "   'id': '1366268211419840512',\n",
       "   'text': \"RT @TheCryptoDog: I'm going to spend another day tweeting and watching Bitcoin go up, aren't I?\"},\n",
       "  {'author_id': '1273011197634383873',\n",
       "   'id': '1366268210329374724',\n",
       "   'text': 'Maybe some people get lucky or maybe just good at reading the technicals\\n#coffee #trading #investing #cryptoart #ALTSEASON #SEO #Marketing #100DaysOfCode #economy #love #Prince $ADA $BTC $ETH #Python #MTVUnplugged #Airdrop #Bitcoin\\xa0  #BitcoinCash #Chainlink https://t.co/qY4xQ2gDqt https://t.co/XqjdIozoVu'},\n",
       "  {'author_id': '1301137038893346817',\n",
       "   'id': '1366268206856343552',\n",
       "   'text': 'RT @DomainsVvs: You can already buy #goldbars (and have been able to for years) with #bitcoin or #vergecurrency on https://t.co/3ot3qWS92E…'},\n",
       "  {'author_id': '946509345000509440',\n",
       "   'id': '1366268206059520001',\n",
       "   'text': 'RT @guywithcoinzz: My goal is to own 1 Bitcoin and be a part of the 1% 🚀 https://t.co/oRgqoRNo2V'},\n",
       "  {'author_id': '958741968070303745',\n",
       "   'id': '1366268204876718081',\n",
       "   'text': \"Bitcoin Black Vs Bitcoin : Claim Your FREE 1000 Coins ( $36) By Particpating in world's biggest airdrop  https://t.co/6t2ripbWtz\"}],\n",
       " [{'author_id': '1361420557854588928',\n",
       "   'id': '1366269235870236672',\n",
       "   'text': \"@BernieSanders Honestly i never thought to earn as much as have earn now \\nThough i don't know the trading process at first @Wilhelmdenni  thought me steps to earn from Bitcoin trading have been earning massively trading with Mr wilhelmdenni \\nGet your BTC and DM the account manager @Wilhelmdenni\"},\n",
       "  {'author_id': '815146369258287104',\n",
       "   'id': '1366269231810027520',\n",
       "   'text': 'Bitcoin Miners Reduce BTC Selling Amid Price Crash - Finance Magnates https://t.co/z8SoE3QJey https://t.co/rYUs9jTf1s'},\n",
       "  {'author_id': '1166593439217127424',\n",
       "   'id': '1366269228677034004',\n",
       "   'text': 'RT @inmortalcrypto: All bears will be liquidated this week.\\n\\n#Bitcoin'},\n",
       "  {'author_id': '324117895',\n",
       "   'id': '1366269227636690945',\n",
       "   'text': 'Interview: James O’Beirne On Bitnomial And Bitcoin Dependencies https://t.co/OYu8PETk22'},\n",
       "  {'author_id': '324117895',\n",
       "   'id': '1366269225912836097',\n",
       "   'text': 'Bitcoin, The Alternative To Pandemonium https://t.co/oGz9gQR11I'},\n",
       "  {'author_id': '324117895',\n",
       "   'id': '1366269224851673089',\n",
       "   'text': 'Nigerians Need Bitcoin, So Where Will The Restrictions Lead? https://t.co/x1ARolO7m1'},\n",
       "  {'author_id': '929703163422298112',\n",
       "   'id': '1366269224008704000',\n",
       "   'text': 'Dev Şirket, Bu 2 #Altcoin’den Almak İçin #Bitcoin’lerini Satıyor: BTC’yi Geçecekler! https://t.co/jcMFloviDp'},\n",
       "  {'author_id': '1321579072095461382',\n",
       "   'id': '1366269220795867140',\n",
       "   'text': 'RT @GoingParabolic: I need more #Bitcoin in my life.'},\n",
       "  {'author_id': '1089861119882285056',\n",
       "   'id': '1366269220380696582',\n",
       "   'text': 'RT @FrancisSuarez: Ultimately #Bitcoin and cryptocurrencies, in general, represent one of the greatest democratizing forces for prosperity.…'},\n",
       "  {'author_id': '724249367146717192',\n",
       "   'id': '1366269216790372353',\n",
       "   'text': 'RT @n3ocortex: Number of #Bitcoin whales vs. $BTCUSD\\n\\nNuff said.\\n\\nhttps://t.co/LWBQx3ltso https://t.co/4EbPPPF0cn'}]]"
      ]
     },
     "execution_count": 272,
     "metadata": {},
     "output_type": "execute_result"
    }
   ],
   "source": [
    "all_tweets"
   ]
  },
  {
   "cell_type": "code",
   "execution_count": null,
   "metadata": {},
   "outputs": [],
   "source": []
  }
 ],
 "metadata": {
  "kernelspec": {
   "display_name": "Python 3",
   "language": "python",
   "name": "python3"
  },
  "language_info": {
   "codemirror_mode": {
    "name": "ipython",
    "version": 3
   },
   "file_extension": ".py",
   "mimetype": "text/x-python",
   "name": "python",
   "nbconvert_exporter": "python",
   "pygments_lexer": "ipython3",
   "version": "3.7.4"
  }
 },
 "nbformat": 4,
 "nbformat_minor": 2
}
