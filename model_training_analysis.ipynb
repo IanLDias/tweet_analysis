{
 "cells": [
  {
   "cell_type": "code",
   "execution_count": 182,
   "metadata": {},
   "outputs": [],
   "source": [
    "import pandas as pd\n",
    "import spacy\n",
    "from spacy import displacy\n",
    "from spacy.matcher import Matcher\n",
    "import random\n",
    "import re"
   ]
  },
  {
   "cell_type": "code",
   "execution_count": 200,
   "metadata": {},
   "outputs": [],
   "source": [
    "df = pd.read_csv('data_labeling/labelled_data_300.csv')"
   ]
  },
  {
   "cell_type": "code",
   "execution_count": 206,
   "metadata": {},
   "outputs": [],
   "source": [
    "df.rename(columns={'text': 'tweet', 'relevent_or_not':'label'}, inplace=True)"
   ]
  },
  {
   "cell_type": "code",
   "execution_count": 208,
   "metadata": {},
   "outputs": [],
   "source": [
    "df['label'] = df['label'].eq('Relevant').mul(1)"
   ]
  },
  {
   "cell_type": "code",
   "execution_count": 210,
   "metadata": {},
   "outputs": [],
   "source": [
    "pattern = '[0-9]*,'\n",
    "def find_patt(row):\n",
    "    'Removes the id from start of the string'\n",
    "    new = re.sub(pattern, '', row)\n",
    "    return new\n",
    "df['tweet'] = df['tweet'].apply(find_patt)"
   ]
  },
  {
   "cell_type": "code",
   "execution_count": 211,
   "metadata": {},
   "outputs": [],
   "source": [
    "nlp = spacy.load(\"en_core_web_md\")"
   ]
  },
  {
   "cell_type": "code",
   "execution_count": 212,
   "metadata": {},
   "outputs": [
    {
     "data": {
      "text/plain": [
       "['tagger', 'parser', 'ner', 'textcat']"
      ]
     },
     "execution_count": 212,
     "metadata": {},
     "output_type": "execute_result"
    }
   ],
   "source": [
    "text_cat=nlp.create_pipe( \"textcat\", config={\"exclusive_classes\": True, \"architecture\": \"simple_cnn\"})\n",
    "nlp.add_pipe(text_cat, last=True)\n",
    "nlp.pipe_names"
   ]
  },
  {
   "cell_type": "code",
   "execution_count": 213,
   "metadata": {
    "scrolled": true
   },
   "outputs": [
    {
     "data": {
      "text/plain": [
       "1"
      ]
     },
     "execution_count": 213,
     "metadata": {},
     "output_type": "execute_result"
    }
   ],
   "source": [
    "text_cat.add_label(\"Relevant\")\n",
    "text_cat.add_label(\"Not_Relevant\")"
   ]
  },
  {
   "cell_type": "code",
   "execution_count": 215,
   "metadata": {},
   "outputs": [],
   "source": [
    "df['tuples'] = df.apply(lambda row: (row['tweet'], row['label']), axis=1)"
   ]
  },
  {
   "cell_type": "code",
   "execution_count": 216,
   "metadata": {},
   "outputs": [],
   "source": [
    "train = df['tuples'].tolist()"
   ]
  },
  {
   "cell_type": "code",
   "execution_count": 217,
   "metadata": {},
   "outputs": [
    {
     "data": {
      "text/plain": [
       "[('RT JRNYcrypto THE CRYPTO GIVEAWAY CONTEST IS NOW LIVE 25K IN CRYPTO PRIZES Prizes 10 winners of 1000 of ETH 15 winners',\n",
       "  0),\n",
       " ('frogghie holystreem QuantStratTradR PPathole Elon Musk has been causing a lot of pain to Tesla s investors For how long Elon Musk will continue on inflicting pain to Tesla s investors Elon get rid of Bitcoin today And investors around the world will do the cheer up dance Jerusalem for you and Tesla',\n",
       "  1),\n",
       " ('Bitcoin Black v Bitcoin Get FREE coins 36 value https t co mNut0IabRp', 0),\n",
       " ('jasonkendal5 elonmusk Thanks for your support I have a special gift for you Visit www elon win com remove slashes doge btc eth bitcoin ethereum dogecoin',\n",
       "  0),\n",
       " ('RT TonySparkOG Check out my Cryptocurrency guides playlist on YouTube to get some great value for free Guides https t co sArKXBTFlx',\n",
       "  0)]"
      ]
     },
     "execution_count": 217,
     "metadata": {},
     "output_type": "execute_result"
    }
   ],
   "source": [
    "train[:5]"
   ]
  },
  {
   "cell_type": "code",
   "execution_count": 218,
   "metadata": {},
   "outputs": [],
   "source": [
    "def load_data(limit=0, split=0.8):\n",
    "    train_data=train\n",
    "    # Shuffle the data\n",
    "    random.shuffle(train_data)\n",
    "    texts, labels = zip(*train_data)\n",
    "    # get the categories for each review\n",
    "    cats = [{\"Relevant\": bool(y), \"Not_Relevant\": not bool(y)} for y in labels]\n",
    "\n",
    "    # Splitting the training and evaluation data\n",
    "    split = int(len(train_data) * split)\n",
    "    return (texts[:split], cats[:split]), (texts[split:], cats[split:])"
   ]
  },
  {
   "cell_type": "code",
   "execution_count": 219,
   "metadata": {
    "scrolled": true
   },
   "outputs": [
    {
     "data": {
      "text/plain": [
       "[('RT shortthebanks Want a chance to win 50 in Bitcoin Just retweet and tag someone to enter 1 Winner will be picked in 7 days solar',\n",
       "  {'cats': {'Relevant': False, 'Not_Relevant': True}}),\n",
       " ('You have heard about Bitcoin and TSLA but missed your chance anon Mmm do not worry sir I got you covered White paper will be released next week I got my team ready Only need a small amount of 100M and the token launch shall be successful https t co l7ffhENdQe',\n",
       "  {'cats': {'Relevant': True, 'Not_Relevant': False}}),\n",
       " ('If you re considering crypto now do check out the latokens app on PlayStore amp AppStore Clean interface and pretty high rated You can also earn free crypto in the ZIL giveaway https t co w4iNMET940 LatokenGiveaway LatokenApp Bitcoin',\n",
       "  {'cats': {'Relevant': False, 'Not_Relevant': True}}),\n",
       " ('RT FOUR20Finance NEW Airdrop running for FOUR20Finance FIRST 500 people to join https t co 6RAsTHS7sR will receive our new BinanceS',\n",
       "  {'cats': {'Relevant': False, 'Not_Relevant': True}}),\n",
       " ('Chandan8917 TrumpetDan Elon Musk has been causing a lot of pain to Tesla s investors For how long Elon Musk will continue on inflicting pain to Tesla s investors Elon get rid of Bitcoin today And investors around the world will do the cheer up dance Jerusalem for you and Tesla',\n",
       "  {'cats': {'Relevant': False, 'Not_Relevant': True}}),\n",
       " ('RT FrankLambeek PRCY PRCY PRCYcoin Coinsbit staking pool https t co 27aetJHZTs 1 7 50 after 30 days 2 Accrual daily',\n",
       "  {'cats': {'Relevant': False, 'Not_Relevant': True}}),\n",
       " ('Waiting for KAVA USDT to reach 4 2 Already entered at 3 9 CryptoNews BTC cryptocurrencies Bitcoin Kava USDT',\n",
       "  {'cats': {'Relevant': False, 'Not_Relevant': True}}),\n",
       " ('RT JRNYcrypto THE CRYPTO GIVEAWAY CONTEST IS NOW LIVE 25K IN CRYPTO PRIZES Prizes 10 winners of 1000 of ETH 15 winners',\n",
       "  {'cats': {'Relevant': False, 'Not_Relevant': True}}),\n",
       " ('Bitcoin lightning https t co aBWnEBvJb3',\n",
       "  {'cats': {'Relevant': False, 'Not_Relevant': True}}),\n",
       " ('RT AirdropStario Moneyearn Finance Airdrop Task 0 1 KYFI 30 Referral 0 05 KYFI 15 Airdrop Lin',\n",
       "  {'cats': {'Relevant': False, 'Not_Relevant': True}})]"
      ]
     },
     "execution_count": 219,
     "metadata": {},
     "output_type": "execute_result"
    }
   ],
   "source": [
    "\n",
    "# Calling the load_data() function \n",
    "(train_texts, train_cats), (dev_texts, dev_cats) = load_data(limit=len(df))\n",
    "\n",
    "# Processing the final format of training data\n",
    "train_data = list(zip(train_texts,[{'cats': cats} for cats in train_cats]))\n",
    "train_data[:10]"
   ]
  },
  {
   "cell_type": "code",
   "execution_count": 220,
   "metadata": {},
   "outputs": [
    {
     "name": "stdout",
     "output_type": "stream",
     "text": [
      "Losses at iteration 0 {'textcat': 1.2384182746582155}\n",
      "Losses at iteration 1 {'textcat': 0.4856345720027093}\n",
      "Losses at iteration 2 {'textcat': 0.23281130998245292}\n",
      "Losses at iteration 3 {'textcat': 0.12064107727380835}\n",
      "Losses at iteration 4 {'textcat': 0.1398355695296274}\n",
      "Losses at iteration 5 {'textcat': 0.12926229437135678}\n",
      "Losses at iteration 6 {'textcat': 0.12983068492017796}\n",
      "Losses at iteration 7 {'textcat': 0.10173017108903035}\n",
      "Losses at iteration 8 {'textcat': 0.10330081909559327}\n",
      "Losses at iteration 9 {'textcat': 0.13089422827849906}\n"
     ]
    }
   ],
   "source": [
    "from spacy.util import minibatch, compounding\n",
    "\n",
    "# Disabling other components\n",
    "other_pipes = [pipe for pipe in nlp.pipe_names if pipe != 'textcat']\n",
    "with nlp.disable_pipes(*other_pipes):  # only train textcat\n",
    "    optimizer = nlp.begin_training()\n",
    "\n",
    "    # Performing training\n",
    "    for i in range(n_iter):\n",
    "        losses = {}\n",
    "        batches = minibatch(train_data, size=compounding(4., 32., 1.001))\n",
    "        for batch in batches:\n",
    "            texts, annotations = zip(*batch)\n",
    "            nlp.update(texts, annotations, sgd=optimizer, drop=0.2,\n",
    "                       losses=losses)\n",
    "        print(f\"Losses at iteration {i}\", losses)\n"
   ]
  },
  {
   "cell_type": "code",
   "execution_count": 227,
   "metadata": {},
   "outputs": [
    {
     "data": {
      "text/plain": [
       "{'Relevant': 2.699279377793573e-07, 'Not_Relevant': 0.9999997615814209}"
      ]
     },
     "execution_count": 227,
     "metadata": {},
     "output_type": "execute_result"
    }
   ],
   "source": [
    "#test_text=\"Central Bank of Kenya to Reportedly Use Bitcoin as Reserve Currency\"\n",
    "doc=nlp(test_text)\n",
    "doc.cats"
   ]
  },
  {
   "cell_type": "code",
   "execution_count": 226,
   "metadata": {},
   "outputs": [],
   "source": [
    "test_text = 'RT Money earn Fi KYFI Airdrop 1 KYFI 300 USD For Completing the tasks Get 0 1 KYFI 30 For Each Valid Refer Get 0 05 KYFI'"
   ]
  },
  {
   "cell_type": "code",
   "execution_count": null,
   "metadata": {},
   "outputs": [],
   "source": []
  }
 ],
 "metadata": {
  "kernelspec": {
   "display_name": "Python 3",
   "language": "python",
   "name": "python3"
  },
  "language_info": {
   "codemirror_mode": {
    "name": "ipython",
    "version": 3
   },
   "file_extension": ".py",
   "mimetype": "text/x-python",
   "name": "python",
   "nbconvert_exporter": "python",
   "pygments_lexer": "ipython3",
   "version": "3.7.4"
  }
 },
 "nbformat": 4,
 "nbformat_minor": 2
}
